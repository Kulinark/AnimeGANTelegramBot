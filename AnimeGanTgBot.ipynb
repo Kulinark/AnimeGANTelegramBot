{
  "nbformat": 4,
  "nbformat_minor": 0,
  "metadata": {
    "colab": {
      "name": "AnimeGanTgBot.ipynb",
      "provenance": [],
      "collapsed_sections": []
    },
    "kernelspec": {
      "name": "python3",
      "display_name": "Python 3"
    },
    "accelerator": "GPU"
  },
  "cells": [
    {
      "cell_type": "markdown",
      "metadata": {
        "id": "2EcLbuypMzR_",
        "colab_type": "text"
      },
      "source": [
        "# Этот ноутбук позволяет запустить своего телеграм-бота для стилизации изображений в анимешный стиль. Для стилизации используется нейросеть [AnimeGAN](https://github.com/TachibanaYoshino/AnimeGAN)\n",
        "\n",
        "Для запуска необходимо: \n",
        "\n",
        "1.   В верхнем меню выбрать File -> Save a copy in Drive (откроется новая вкладка, все дальнейшие действия нужно выполнять в ней)\n",
        "2.   В верхнем меню выбрать Runtime -> change runtime type -> GPU\n",
        "\n",
        "3.   В телеграме найти аккаунт @BotFather и с помощью команды /newbot создать нового бота.\n",
        "4.   BotFather после создания бота даст токен -- набор букв цифр, их необходимо скопировать и вставить в форму ниже (через Ctrl + V).\n",
        "5.   В верхнем меню выбрать Runtime -> Run All\n",
        "\n",
        "После этих действий можно отправлять созданному боту фотографии.\n",
        "Бот будет работать пока открыт браузер с этой страницей. Огрнаничения гул-колаба не позволяют выполнять код (а следовательно и работать боту) более 12 часов. \n",
        "\n",
        "\n"
      ]
    },
    {
      "cell_type": "code",
      "metadata": {
        "id": "3r9tHVfuFocX",
        "colab_type": "code",
        "cellView": "form",
        "colab": {}
      },
      "source": [
        "#@title Введите ваш токен\n",
        "token = \"\" #@param {type:\"string\"}\n"
      ],
      "execution_count": 0,
      "outputs": []
    },
    {
      "cell_type": "code",
      "metadata": {
        "id": "zO1s86P_vGha",
        "colab_type": "code",
        "cellView": "form",
        "colab": {}
      },
      "source": [
        "#@title Устанавливаем необходимые библиотеки\n",
        "from IPython.display import clear_output\n",
        "!pip install pytelegrambotapi\n",
        "%tensorflow_version 1.x\n",
        "!git clone  https://github.com/TachibanaYoshino/AnimeGAN.git\n",
        "%cd AnimeGAN\n",
        "!wget https://github.com/TachibanaYoshino/AnimeGAN/releases/download/Haoyao-style_V1.0/Haoyao-style.zip\n",
        "!unzip /content/AnimeGAN/Haoyao-style.zip -d pppoint\n",
        "!rm /content/AnimeGAN/Haoyao-style.zip\n",
        "%cd /content/AnimeGAN\n",
        "!mkdir img\n",
        "clear_output()"
      ],
      "execution_count": 0,
      "outputs": []
    },
    {
      "cell_type": "code",
      "metadata": {
        "id": "7AtgrCUFww7n",
        "colab_type": "code",
        "cellView": "form",
        "colab": {}
      },
      "source": [
        "#@title Запускаем бота!\n",
        "import test\n",
        "import telebot\n",
        "import os\n",
        "import tensorflow as tf\n",
        "bot = telebot.TeleBot(token, threaded=False)\n",
        "\n",
        "\n",
        "\n",
        "@bot.message_handler(commands=['start', 'help'])\n",
        "def handle_start_help(message):\n",
        "\tbot.send_message(message.chat.id, 'Этот бот стилизует изображения в анимешный стиль с помощью нейросети AnimeGAN. Просто отправьте боту фото.\\nИ да, подписывайтесь на канал @NeuralShit')\n",
        "\n",
        "\n",
        "@bot.message_handler(content_types=['photo'])\n",
        "def handle_docs_photo(message):\n",
        "\n",
        "    try:\n",
        "\n",
        "        tf.reset_default_graph () \n",
        "        file_info = bot.get_file(message.photo[len(message.photo)-1].file_id)\n",
        "        downloaded_file = bot.download_file(file_info.file_path)\n",
        "        cut = file_info.file_path.split('/')\n",
        "        cut = cut[1]\n",
        "\n",
        "        src='/content/AnimeGAN/img/'+ cut\n",
        "        with open(src, 'wb') as new_file:\n",
        "           new_file.write(downloaded_file)\n",
        "        bot.reply_to(message,\"Фото добавлено в очередь на обработку\")\n",
        "        test.test('/content/AnimeGAN/pppoint', 'H', '/content/AnimeGAN/img/')\n",
        "\n",
        "\n",
        "        with open ('/content/AnimeGAN/results/H/'+cut , 'rb' ) as snd:\n",
        "          animeme = snd.read()\n",
        "        bot.send_photo(message.chat.id, animeme)\n",
        "        os.remove('/content/AnimeGAN/results/H/' + cut)\n",
        "        os.remove('/content/AnimeGAN/img/' + cut)\n",
        "        clear_output()\n",
        "\n",
        "\n",
        "    except Exception as e:\n",
        "        print (e)\n",
        "\n",
        "\n",
        "@bot.message_handler(content_types=['document'])\n",
        "def handle_docs_photo(message):\n",
        "  bot.reply_to(message, 'Отправьте файл как \"фото\", а не как \"документ\" ')\n",
        "\n",
        "\n",
        "bot.infinity_polling(none_stop=True)\n",
        "\n",
        " \n"
      ],
      "execution_count": 0,
      "outputs": []
    }
  ]
}
